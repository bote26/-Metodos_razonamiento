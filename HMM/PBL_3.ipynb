{
 "cells": [
  {
   "cell_type": "markdown",
   "id": "bf4b8df5",
   "metadata": {},
   "source": [
    "# Actividad PBL 3\n",
    "\n",
    "### César Isao Pastelin Kohagura - A01659947\n",
    "\n",
    "### Sophia Gabriela Martínez Albarrán - A01424430\n",
    "\n",
    "### Luis Emilio Fernández González - A01659517\n",
    "\n",
    "### Eduardo Botello Casey - A01659281"
   ]
  },
  {
   "cell_type": "code",
   "execution_count": 1,
   "id": "b015681f",
   "metadata": {},
   "outputs": [
    {
     "name": "stdout",
     "output_type": "stream",
     "text": [
      "Collecting SpeechRecognition\n",
      "  Using cached speechrecognition-3.14.3-py3-none-any.whl.metadata (30 kB)\n",
      "Requirement already satisfied: typing-extensions in /opt/anaconda3/envs/sklearn-env/lib/python3.13/site-packages (from SpeechRecognition) (4.13.1)\n",
      "Collecting standard-aifc (from SpeechRecognition)\n",
      "  Downloading standard_aifc-3.13.0-py3-none-any.whl.metadata (969 bytes)\n",
      "Collecting audioop-lts (from SpeechRecognition)\n",
      "  Downloading audioop_lts-0.2.2-cp313-abi3-macosx_11_0_arm64.whl.metadata (2.0 kB)\n",
      "Collecting standard-chunk (from standard-aifc->SpeechRecognition)\n",
      "  Downloading standard_chunk-3.13.0-py3-none-any.whl.metadata (860 bytes)\n",
      "Using cached speechrecognition-3.14.3-py3-none-any.whl (32.9 MB)\n",
      "Downloading audioop_lts-0.2.2-cp313-abi3-macosx_11_0_arm64.whl (26 kB)\n",
      "Downloading standard_aifc-3.13.0-py3-none-any.whl (10 kB)\n",
      "Downloading standard_chunk-3.13.0-py3-none-any.whl (4.9 kB)\n",
      "Installing collected packages: standard-chunk, audioop-lts, standard-aifc, SpeechRecognition\n",
      "Successfully installed SpeechRecognition-3.14.3 audioop-lts-0.2.2 standard-aifc-3.13.0 standard-chunk-3.13.0\n"
     ]
    }
   ],
   "source": [
    "!pip install SpeechRecognition"
   ]
  }
 ],
 "metadata": {
  "kernelspec": {
   "display_name": "sklearn-env",
   "language": "python",
   "name": "python3"
  },
  "language_info": {
   "codemirror_mode": {
    "name": "ipython",
    "version": 3
   },
   "file_extension": ".py",
   "mimetype": "text/x-python",
   "name": "python",
   "nbconvert_exporter": "python",
   "pygments_lexer": "ipython3",
   "version": "3.13.2"
  }
 },
 "nbformat": 4,
 "nbformat_minor": 5
}
