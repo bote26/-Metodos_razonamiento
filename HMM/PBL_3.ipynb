{
 "cells": [
  {
   "cell_type": "markdown",
   "id": "bf4b8df5",
   "metadata": {},
   "source": [
    "# Actividad PBL 3\n",
    "\n",
    "### César Isao Pastelin Kohagura - A01659947\n",
    "\n",
    "### Sophia Gabriela Martínez Albarrán - A01424430\n",
    "\n",
    "### Luis Emilio Fernández González - A01659517\n",
    "\n",
    "### Eduardo Botello Casey - A01659281"
   ]
  }
 ],
 "metadata": {
  "language_info": {
   "name": "python"
  }
 },
 "nbformat": 4,
 "nbformat_minor": 5
}
