{
 "cells": [
  {
   "cell_type": "code",
   "execution_count": 21,
   "id": "0cdf1391",
   "metadata": {},
   "outputs": [],
   "source": [
    "import numpy as np\n",
    "import pandas as pd\n",
    "\n",
    "import re\n",
    "\n",
    "from sklearn.model_selection import train_test_split"
   ]
  },
  {
   "cell_type": "code",
   "execution_count": 22,
   "id": "c6aaf121",
   "metadata": {},
   "outputs": [],
   "source": [
    "data = pd.read_csv('diabetes.csv')\n",
    "data = data[['Diabetes_binary','HighBP','HighChol','Smoker', 'HvyAlcoholConsump','DiffWalk']]\n",
    "data.rename(columns={\"Diabetes_binary\":\"D\",\"HighBP\":\"P\", \"HighChol\":\"C\", \"HvyAlcoholConsump\":\"A\", \"DiffWalk\":\"DC\", \"Smoker\":\"F\"}, inplace=True)"
   ]
  },
  {
   "cell_type": "code",
   "execution_count": 23,
   "id": "2c9112ca",
   "metadata": {},
   "outputs": [
    {
     "data": {
      "text/html": [
       "<div>\n",
       "<style scoped>\n",
       "    .dataframe tbody tr th:only-of-type {\n",
       "        vertical-align: middle;\n",
       "    }\n",
       "\n",
       "    .dataframe tbody tr th {\n",
       "        vertical-align: top;\n",
       "    }\n",
       "\n",
       "    .dataframe thead th {\n",
       "        text-align: right;\n",
       "    }\n",
       "</style>\n",
       "<table border=\"1\" class=\"dataframe\">\n",
       "  <thead>\n",
       "    <tr style=\"text-align: right;\">\n",
       "      <th></th>\n",
       "      <th>D</th>\n",
       "      <th>P</th>\n",
       "      <th>C</th>\n",
       "      <th>F</th>\n",
       "      <th>A</th>\n",
       "      <th>DC</th>\n",
       "    </tr>\n",
       "  </thead>\n",
       "  <tbody>\n",
       "    <tr>\n",
       "      <th>0</th>\n",
       "      <td>0.0</td>\n",
       "      <td>1.0</td>\n",
       "      <td>1.0</td>\n",
       "      <td>1.0</td>\n",
       "      <td>0.0</td>\n",
       "      <td>1.0</td>\n",
       "    </tr>\n",
       "    <tr>\n",
       "      <th>1</th>\n",
       "      <td>0.0</td>\n",
       "      <td>0.0</td>\n",
       "      <td>0.0</td>\n",
       "      <td>1.0</td>\n",
       "      <td>0.0</td>\n",
       "      <td>0.0</td>\n",
       "    </tr>\n",
       "    <tr>\n",
       "      <th>2</th>\n",
       "      <td>0.0</td>\n",
       "      <td>1.0</td>\n",
       "      <td>1.0</td>\n",
       "      <td>0.0</td>\n",
       "      <td>0.0</td>\n",
       "      <td>1.0</td>\n",
       "    </tr>\n",
       "    <tr>\n",
       "      <th>3</th>\n",
       "      <td>0.0</td>\n",
       "      <td>1.0</td>\n",
       "      <td>0.0</td>\n",
       "      <td>0.0</td>\n",
       "      <td>0.0</td>\n",
       "      <td>0.0</td>\n",
       "    </tr>\n",
       "    <tr>\n",
       "      <th>4</th>\n",
       "      <td>0.0</td>\n",
       "      <td>1.0</td>\n",
       "      <td>1.0</td>\n",
       "      <td>0.0</td>\n",
       "      <td>0.0</td>\n",
       "      <td>0.0</td>\n",
       "    </tr>\n",
       "    <tr>\n",
       "      <th>...</th>\n",
       "      <td>...</td>\n",
       "      <td>...</td>\n",
       "      <td>...</td>\n",
       "      <td>...</td>\n",
       "      <td>...</td>\n",
       "      <td>...</td>\n",
       "    </tr>\n",
       "    <tr>\n",
       "      <th>253675</th>\n",
       "      <td>0.0</td>\n",
       "      <td>1.0</td>\n",
       "      <td>1.0</td>\n",
       "      <td>0.0</td>\n",
       "      <td>0.0</td>\n",
       "      <td>0.0</td>\n",
       "    </tr>\n",
       "    <tr>\n",
       "      <th>253676</th>\n",
       "      <td>1.0</td>\n",
       "      <td>1.0</td>\n",
       "      <td>1.0</td>\n",
       "      <td>0.0</td>\n",
       "      <td>0.0</td>\n",
       "      <td>1.0</td>\n",
       "    </tr>\n",
       "    <tr>\n",
       "      <th>253677</th>\n",
       "      <td>0.0</td>\n",
       "      <td>0.0</td>\n",
       "      <td>0.0</td>\n",
       "      <td>0.0</td>\n",
       "      <td>0.0</td>\n",
       "      <td>0.0</td>\n",
       "    </tr>\n",
       "    <tr>\n",
       "      <th>253678</th>\n",
       "      <td>0.0</td>\n",
       "      <td>1.0</td>\n",
       "      <td>0.0</td>\n",
       "      <td>0.0</td>\n",
       "      <td>0.0</td>\n",
       "      <td>0.0</td>\n",
       "    </tr>\n",
       "    <tr>\n",
       "      <th>253679</th>\n",
       "      <td>1.0</td>\n",
       "      <td>1.0</td>\n",
       "      <td>1.0</td>\n",
       "      <td>0.0</td>\n",
       "      <td>0.0</td>\n",
       "      <td>0.0</td>\n",
       "    </tr>\n",
       "  </tbody>\n",
       "</table>\n",
       "<p>253680 rows × 6 columns</p>\n",
       "</div>"
      ],
      "text/plain": [
       "          D    P    C    F    A   DC\n",
       "0       0.0  1.0  1.0  1.0  0.0  1.0\n",
       "1       0.0  0.0  0.0  1.0  0.0  0.0\n",
       "2       0.0  1.0  1.0  0.0  0.0  1.0\n",
       "3       0.0  1.0  0.0  0.0  0.0  0.0\n",
       "4       0.0  1.0  1.0  0.0  0.0  0.0\n",
       "...     ...  ...  ...  ...  ...  ...\n",
       "253675  0.0  1.0  1.0  0.0  0.0  0.0\n",
       "253676  1.0  1.0  1.0  0.0  0.0  1.0\n",
       "253677  0.0  0.0  0.0  0.0  0.0  0.0\n",
       "253678  0.0  1.0  0.0  0.0  0.0  0.0\n",
       "253679  1.0  1.0  1.0  0.0  0.0  0.0\n",
       "\n",
       "[253680 rows x 6 columns]"
      ]
     },
     "execution_count": 23,
     "metadata": {},
     "output_type": "execute_result"
    }
   ],
   "source": [
    "data"
   ]
  },
  {
   "cell_type": "markdown",
   "id": "878c70a5",
   "metadata": {},
   "source": [
    "# Dividimos los datos en datos de entrenamiento y prueba \n"
   ]
  },
  {
   "cell_type": "code",
   "execution_count": 79,
   "id": "2a47977d",
   "metadata": {},
   "outputs": [
    {
     "name": "stdout",
     "output_type": "stream",
     "text": [
      "Distribución en entrenamiento:\n",
      "D\n",
      "0.0    0.860311\n",
      "1.0    0.139689\n",
      "Name: proportion, dtype: float64\n",
      "\n",
      "Distribución en prueba:\n",
      "D\n",
      "0.0    0.86209\n",
      "1.0    0.13791\n",
      "Name: proportion, dtype: float64\n",
      "202944 en entrenamiento\n",
      "50736 en prueba\n"
     ]
    }
   ],
   "source": [
    "entrenamiento, prueba = train_test_split(data, test_size=0.2, random_state=42)\n",
    "# Verificar la distribución de la variable objetivo en ambos conjuntos\n",
    "print(\"Distribución en entrenamiento:\")\n",
    "print(entrenamiento['D'].value_counts(normalize=True))\n",
    "print(\"\\nDistribución en prueba:\")\n",
    "print(prueba['D'].value_counts(normalize=True))\n",
    "print(len(entrenamiento), \"en entrenamiento\")\n",
    "print(len(prueba), \"en prueba\")"
   ]
  },
  {
   "cell_type": "markdown",
   "id": "b5c74098",
   "metadata": {},
   "source": [
    "A : Alchoholico\n",
    "F : Fumador\n",
    "D : Diabetes\n",
    "P : Presion Alta\n",
    "DC : Dificultad al caminar\n",
    "C : Colesterol Alto"
   ]
  },
  {
   "cell_type": "code",
   "execution_count": 25,
   "id": "d3c0f743",
   "metadata": {},
   "outputs": [
    {
     "data": {
      "image/png": "[encoded data removed]",
      "text/plain": [
       "<Figure size 640x480 with 1 Axes>"
      ]
     },
     "metadata": {},
     "output_type": "display_data"
    }
   ],
   "source": [
    "import networkx as nx\n",
    "import matplotlib.pyplot as plt\n",
    "\n",
    "G = nx.DiGraph()\n",
    "G.add_edges_from([\n",
    "    ('F','D'), \n",
    "    ('A','D'),  \n",
    "    ('D','P'), \n",
    "    ('D','DC'),\n",
    "    ('D','C')\n",
    "])\n",
    "\n",
    "# Posiciones: (x, y)\n",
    "pos = {\n",
    "    'F': (-.5, 2),\n",
    "    'A': (.5, 2),\n",
    "    'C': (.5, 0),\n",
    "    'D': (0, 1),\n",
    "    'P': (-.5, 0),\n",
    "    'DC': (0, 0)\n",
    "}\n",
    "\n",
    "nx.draw(G, pos, with_labels=True, node_size=3000, node_color='lightblue', arrowsize=20)\n",
    "plt.show()\n"
   ]
  },
  {
   "cell_type": "markdown",
   "id": "fd3c628a",
   "metadata": {},
   "source": [
    "# Calculo de probabilidades con frecuencia"
   ]
  },
  {
   "cell_type": "markdown",
   "id": "e925009b",
   "metadata": {},
   "source": [
    "**Probabilidad de fumar y ser alcoholico**\n",
    "\n",
    "\n",
    "$$\n",
    "P(A) \\approx \\frac{\\text{Número de veces que ocurre } A}{\\text{Número total de observaciones}}\n",
    "$$\n",
    "\n",
    " "
   ]
  },
  {
   "cell_type": "code",
   "execution_count": 26,
   "id": "43dad66b",
   "metadata": {},
   "outputs": [],
   "source": [
    "probabilidad_fumar = data.F.sum()/len(entrenamiento)\n",
    "probabilidad_alcoholico = data.A.sum()/len(entrenamiento)"
   ]
  },
  {
   "cell_type": "code",
   "execution_count": 27,
   "id": "b7ae45d8",
   "metadata": {},
   "outputs": [
    {
     "name": "stdout",
     "output_type": "stream",
     "text": [
      "Probailidad fumar 0.554\n",
      "Probailidad alcoholico 0.0702\n"
     ]
    }
   ],
   "source": [
    "print(\"Probailidad fumar\", np.round(probabilidad_fumar,4))\n",
    "print(\"Probailidad alcoholico\", np.round(probabilidad_alcoholico,4))\n",
    "\n"
   ]
  },
  {
   "cell_type": "markdown",
   "id": "0c3d5eba",
   "metadata": {},
   "source": [
    "**Probabilidad de diabetes dado fumar y ser alcoholico**"
   ]
  },
  {
   "cell_type": "markdown",
   "id": "f492acd4",
   "metadata": {},
   "source": [
    "Datos que cumplen las condiciones de la tabla"
   ]
  },
  {
   "cell_type": "code",
   "execution_count": 28,
   "id": "4b86fc16",
   "metadata": {},
   "outputs": [],
   "source": [
    "fumar_T_alcholico_T = entrenamiento.loc[(entrenamiento.F == 1.0) & (entrenamiento.A == 1.0)]\n",
    "fumar_T_alcholico_F = entrenamiento.loc[(entrenamiento.F == 1.0) & (entrenamiento.A == 0)]\n",
    "fumar_F_alcholico_T = entrenamiento.loc[(entrenamiento.F == 0) & (entrenamiento.A == 1.0)]\n",
    "fumar_F_alcholico_F = entrenamiento.loc[(entrenamiento.F == 0) & (entrenamiento.A == 0)]"
   ]
  },
  {
   "cell_type": "markdown",
   "id": "75244087",
   "metadata": {},
   "source": [
    "**Probabilidad de cada combinación dada su frecuencia en los datos**"
   ]
  },
  {
   "cell_type": "code",
   "execution_count": 29,
   "id": "cf497ebb",
   "metadata": {},
   "outputs": [],
   "source": [
    "probabilidad_diabetes_fumar_T_alcholico_T = fumar_T_alcholico_T.D.sum()/len(fumar_T_alcholico_T)\n",
    "probabilidad_diabetes_fumar_T_alcholico_F = fumar_T_alcholico_F.D.sum()/len(fumar_T_alcholico_F)\n",
    "probabilidad_diabetes_fumar_F_alcholico_T = fumar_F_alcholico_T.D.sum()/len(fumar_F_alcholico_T)\n",
    "probabilidad_diabetes_fumar_F_alcholico_F = fumar_F_alcholico_F.D.sum()/len(fumar_F_alcholico_F)\n",
    "\n"
   ]
  },
  {
   "cell_type": "code",
   "execution_count": 30,
   "id": "e3372f29",
   "metadata": {},
   "outputs": [
    {
     "name": "stdout",
     "output_type": "stream",
     "text": [
      "F  A  | P(D)\n",
      "--------------\n",
      "T  T  | 0.0683\n",
      "T  F  | 0.1725\n",
      "F  T  | 0.0454\n",
      "F  F  | 0.1232\n"
     ]
    }
   ],
   "source": [
    "print(\"F  A  | P(D)\")\n",
    "print(\"--------------\")\n",
    "print(\"T  T  |\",np.round(probabilidad_diabetes_fumar_T_alcholico_T,4))\n",
    "print(\"T  F  |\",np.round(probabilidad_diabetes_fumar_T_alcholico_F,4))\n",
    "print(\"F  T  |\",np.round(probabilidad_diabetes_fumar_F_alcholico_T,4))\n",
    "print(\"F  F  |\",np.round(probabilidad_diabetes_fumar_F_alcholico_F,4))\n",
    "\n"
   ]
  },
  {
   "cell_type": "markdown",
   "id": "2f71308a",
   "metadata": {},
   "source": [
    "**Calculo de la probabilidad total de tener diabetes**\n",
    "Es decir, todas las combinaciones en las que puede pasar."
   ]
  },
  {
   "cell_type": "code",
   "execution_count": 31,
   "id": "0e0c841c",
   "metadata": {},
   "outputs": [],
   "source": [
    "probabilidad_diabetes = probabilidad_diabetes_fumar_T_alcholico_T * probabilidad_fumar * probabilidad_alcoholico + \\\n",
    "                        probabilidad_diabetes_fumar_T_alcholico_F * probabilidad_fumar * (1 - probabilidad_alcoholico) + \\\n",
    "                        probabilidad_diabetes_fumar_F_alcholico_T * (1 - probabilidad_fumar) * probabilidad_alcoholico + \\\n",
    "                        probabilidad_diabetes_fumar_F_alcholico_F * (1 - probabilidad_fumar) * (1 - probabilidad_alcoholico) \n",
    "                        \n",
    "                        "
   ]
  },
  {
   "cell_type": "code",
   "execution_count": 39,
   "id": "3d242212",
   "metadata": {},
   "outputs": [
    {
     "name": "stdout",
     "output_type": "stream",
     "text": [
      "Probabilidad diabetes 0.144\n"
     ]
    }
   ],
   "source": [
    "print(\"Probabilidad diabetes\", np.round(probabilidad_diabetes,4))"
   ]
  },
  {
   "cell_type": "markdown",
   "id": "2bae9eee",
   "metadata": {},
   "source": [
    "**Probabilidad de los sintomas dado la diabetes**\n",
    "\n"
   ]
  },
  {
   "cell_type": "code",
   "execution_count": 33,
   "id": "d38e8859",
   "metadata": {},
   "outputs": [],
   "source": [
    "diabetes_T = data.loc[(data.D == 1.0)]\n",
    "diabetes_F = data.loc[(data.D == 0)]"
   ]
  },
  {
   "cell_type": "markdown",
   "id": "caed18c5",
   "metadata": {},
   "source": [
    "**Probabilidades condicionales dadas las frecuencias**\n",
    "\n"
   ]
  },
  {
   "cell_type": "code",
   "execution_count": 34,
   "id": "0e855b68",
   "metadata": {},
   "outputs": [],
   "source": [
    "probabilidad_diabetes_T_presion_T = diabetes_T.P.sum()/len(diabetes_T)\n",
    "probabilidad_diabetes_F_presion_T = diabetes_F.P.sum()/len(diabetes_F)\n",
    "\n",
    "probabilidad_diabetes_T_colesterol_T = diabetes_T.C.sum()/len(diabetes_T)\n",
    "probabilidad_diabetes_F_colesterol_T = diabetes_F.C.sum()/len(diabetes_F)\n",
    "\n",
    "probabilidad_diabetes_T_diffcaminar_T = diabetes_T.DC.sum()/len(diabetes_T)\n",
    "probabilidad_diabetes_F_diffcaminar_T = diabetes_F.DC.sum()/len(diabetes_F)\n",
    "\n"
   ]
  },
  {
   "cell_type": "code",
   "execution_count": 35,
   "id": "a284646f",
   "metadata": {},
   "outputs": [
    {
     "name": "stdout",
     "output_type": "stream",
     "text": [
      "D  |  P(P)  |  P(C)  |  P(DC) \n",
      "------------------------------\n",
      "T  | 0.7527 | 0.6701 | 0.3712\n",
      "F  | 0.3766 | 0.3843 | 0.1354\n"
     ]
    }
   ],
   "source": [
    "print(\"D  |  P(P)  |  P(C)  |  P(DC) \")\n",
    "print(\"------------------------------\")\n",
    "print(\"T  |\",np.round(probabilidad_diabetes_T_presion_T,4),'|',np.round(probabilidad_diabetes_T_colesterol_T,4),'|',np.round(probabilidad_diabetes_T_diffcaminar_T,4))\n",
    "print(\"F  |\",np.round(probabilidad_diabetes_F_presion_T,4),'|',np.round(probabilidad_diabetes_F_colesterol_T,4),'|',np.round(probabilidad_diabetes_F_diffcaminar_T,4))\n",
    "\n",
    "\n"
   ]
  },
  {
   "cell_type": "code",
   "execution_count": 36,
   "id": "5296cebb",
   "metadata": {},
   "outputs": [],
   "source": [
    "probabilidad_presion = probabilidad_diabetes_T_presion_T * probabilidad_diabetes + probabilidad_diabetes_F_presion_T * (1 - probabilidad_diabetes)\n",
    "probabilidad_colesterol = probabilidad_diabetes_T_colesterol_T * probabilidad_diabetes + probabilidad_diabetes_F_colesterol_T * (1 - probabilidad_diabetes)\n",
    "probabilidad_diffcaminar = probabilidad_diabetes_T_diffcaminar_T * probabilidad_diabetes + probabilidad_diabetes_F_diffcaminar_T * (1 - probabilidad_diabetes)\n",
    "\n"
   ]
  },
  {
   "cell_type": "code",
   "execution_count": null,
   "id": "1d354bd9",
   "metadata": {},
   "outputs": [
    {
     "name": "stdout",
     "output_type": "stream",
     "text": [
      "Probabilidad presion alta 0.4308\n",
      "Probabilidad colesterol alto 0.4255\n",
      "Probabilidad dificultad para caminar 0.1693\n"
     ]
    }
   ],
   "source": [
    "print(\"Probabilidad presion alta\", np.round(probabilidad_presion,4))\n",
    "print(\"Probabilidad colesterol alto\", np.round(probabilidad_colesterol,4))\n",
    "print(\"Probabilidad dificultad para caminar\", np.round(probabilidad_diffcaminar,4))\n"
   ]
  },
  {
   "cell_type": "markdown",
   "id": "97cf10e0",
   "metadata": {},
   "source": [
    "# Calculo del error de diagnóstico "
   ]
  },
  {
   "cell_type": "markdown",
   "id": "f441e01a",
   "metadata": {},
   "source": [
    "**Probabilidad de fumar y ser alcoholico**\n",
    "\n",
    "\n",
    "$$\n",
    "P(D \\mid A, F, C, P, DC ) = \\frac{P(D, A, F, C, P, DC)}{P(A,F, C, P,DC)} = \\frac{P(D\\mid A , F) P(C \\mid D )P(P \\mid D )P(DC \\mid D )P(A)P(F)}{P(A)P(F)P(C)P(P)P(DC)} \n",
    "$$\n",
    "\n",
    "$$\n",
    "= \\frac{P(D\\mid A , F) P(C \\mid D )P(P \\mid D )P(DC \\mid D )}{P(C)P(P)P(DC)}\n",
    "$$"
   ]
  },
  {
   "cell_type": "code",
   "execution_count": 86,
   "id": "c2958d40",
   "metadata": {},
   "outputs": [],
   "source": [
    "p_D_dado_F_A = {\n",
    "    # (Diabetes, Fumar, Alcoholico)\n",
    "    (1,1,1) : probabilidad_diabetes_fumar_T_alcholico_T,\n",
    "    (0,1,1) : 1 - probabilidad_diabetes_fumar_T_alcholico_T,\n",
    "    \n",
    "    (1,1,0) : probabilidad_diabetes_fumar_T_alcholico_F,\n",
    "    (0,1,0) : 1- probabilidad_diabetes_fumar_T_alcholico_F,\n",
    "    \n",
    "    (1,0,1) : probabilidad_diabetes_fumar_F_alcholico_T,\n",
    "    (0,0,1) : 1 - probabilidad_diabetes_fumar_F_alcholico_T,\n",
    "    \n",
    "    (1,0,0) : probabilidad_diabetes_fumar_F_alcholico_F,\n",
    "    (0,0,0) : 1 - probabilidad_diabetes_fumar_F_alcholico_F\n",
    "}\n",
    "\n",
    "p_C_dado_D = {\n",
    "    # (Diabetes, Colesterol)\n",
    "    (1,1) : probabilidad_diabetes_T_colesterol_T,\n",
    "    (1,0) : 1 - probabilidad_diabetes_T_colesterol_T,\n",
    "    (0,1) : probabilidad_diabetes_F_colesterol_T,\n",
    "    (0,0) : 1 - probabilidad_diabetes_F_colesterol_T\n",
    "}\n",
    "\n",
    "p_C_dado_P = {\n",
    "    # (Diabetes, Presion alta)\n",
    "    (1,1) : probabilidad_diabetes_T_presion_T,\n",
    "    (1,0) : 1 - probabilidad_diabetes_T_presion_T,\n",
    "    (0,1) : probabilidad_diabetes_F_presion_T,\n",
    "    (0,0) : 1 - probabilidad_diabetes_F_presion_T\n",
    "}\n",
    "\n",
    "p_C_dado_DC = {\n",
    "    # (Diabetes, Dificuldad Caminar)\n",
    "    (1,1) : probabilidad_diabetes_T_diffcaminar_T,\n",
    "    (1,0) : 1 - probabilidad_diabetes_T_diffcaminar_T,\n",
    "    (0,1) : probabilidad_diabetes_F_diffcaminar_T,\n",
    "    (0,0) : 1 - probabilidad_diabetes_F_diffcaminar_T\n",
    "}\n",
    "\n",
    "\n",
    "probabilidad_fumar_vector = [1-probabilidad_fumar, probabilidad_fumar]\n",
    "probabilidad_alcoholico_vector = [1-probabilidad_alcoholico, probabilidad_alcoholico]\n",
    "\n",
    "probabilidad_diabetes_vector = [1-probabilidad_diabetes, probabilidad_diabetes]\n",
    "\n",
    "probabilidad_presion_vector = [1-probabilidad_presion, probabilidad_presion]\n",
    "probabilidad_colesterol_vector = [1-probabilidad_colesterol, probabilidad_colesterol]\n",
    "probabilidad_diffcaminar_vector = [1-probabilidad_diffcaminar, probabilidad_diffcaminar]\n",
    "\n",
    "y_real = []\n",
    "y_pred = []\n",
    "# Iterar en las filas del dataframe de prueba\n",
    "for index, row in prueba.iterrows():\n",
    "    F = int(row['F'])\n",
    "    A = int(row['A'])\n",
    "    D = int(row['D'])\n",
    "    P = int(row['P'])\n",
    "    C = int(row['C'])\n",
    "    DC = int(row['DC'])\n",
    "    \n",
    "    y_real.append(D)\n",
    "    \n",
    "    resultado_provisional = []\n",
    "    for posible_D in [0,1]:\n",
    "        \n",
    "        total = (p_D_dado_F_A[(posible_D,F,A)] * p_C_dado_D[(posible_D,C)] * p_C_dado_P[(posible_D,P)] * p_C_dado_DC[(posible_D,DC)]) / (probabilidad_presion_vector[P] * probabilidad_colesterol_vector[C] * probabilidad_diffcaminar_vector[DC])\n",
    "        resultado_provisional.append(total)\n",
    "\n",
    "    # Predecir la clase con mayor probabilidad\n",
    "    prediccion = np.argmax(resultado_provisional)\n",
    "    y_pred.append(prediccion)"
   ]
  },
  {
   "cell_type": "code",
   "execution_count": 87,
   "id": "9326f68e",
   "metadata": {},
   "outputs": [
    {
     "name": "stdout",
     "output_type": "stream",
     "text": [
      "Accuracy: 0.8512\n",
      "\n",
      "Classification Report:\n",
      "              precision    recall  f1-score   support\n",
      "\n",
      "           0       0.89      0.95      0.92     43739\n",
      "           1       0.43      0.23      0.30      6997\n",
      "\n",
      "    accuracy                           0.85     50736\n",
      "   macro avg       0.66      0.59      0.61     50736\n",
      "weighted avg       0.82      0.85      0.83     50736\n",
      "\n",
      "\n",
      "Confusion Matrix:\n",
      "[[41588  2151]\n",
      " [ 5396  1601]]\n"
     ]
    }
   ],
   "source": [
    "from sklearn.metrics import accuracy_score, classification_report, confusion_matrix\n",
    "\n",
    "# Calculate accuracy\n",
    "accuracy = accuracy_score(y_real, y_pred)\n",
    "print(f\"Accuracy: {accuracy:.4f}\")\n",
    "\n",
    "# Print classification report\n",
    "print(\"\\nClassification Report:\")\n",
    "print(classification_report(y_real, y_pred))\n",
    "\n",
    "# Print confusion matrix\n",
    "print(\"\\nConfusion Matrix:\")\n",
    "print(confusion_matrix(y_real, y_pred))"
   ]
  },
  {
   "cell_type": "code",
   "execution_count": null,
   "id": "1fd49569",
   "metadata": {},
   "outputs": [],
   "source": []
  }
 ],
 "metadata": {
  "kernelspec": {
   "display_name": "FraudDetection",
   "language": "python",
   "name": "python3"
  },
  "language_info": {
   "codemirror_mode": {
    "name": "ipython",
    "version": 3
   },
   "file_extension": ".py",
   "mimetype": "text/x-python",
   "name": "python",
   "nbconvert_exporter": "python",
   "pygments_lexer": "ipython3",
   "version": "3.10.16"
  }
 },
 "nbformat": 4,
 "nbformat_minor": 5
}
