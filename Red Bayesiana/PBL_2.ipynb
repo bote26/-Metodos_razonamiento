{
 "cells": [
  {
   "cell_type": "markdown",
   "id": "0aad767a",
   "metadata": {},
   "source": [
    "# Actividad PBL 2\n",
    "\n",
    "### César Isao Pastelin Kohagura - A01659947\n",
    "\n",
    "### Sophia Gabriela Martínez Albarrán - A01424430\n",
    "\n",
    "### Luis Emilio Fernández González - A01659517\n",
    "\n",
    "### Eduardo Botello Casey - A01659281"
   ]
  },
  {
   "cell_type": "markdown",
   "id": "4bf551a3",
   "metadata": {},
   "source": [
    "Se importan librerías para:\n",
    "- numpy (np): operaciones numéricas y utilidades (p. ej., argmax, redondeo).\n",
    "- pandas (pd): manejo de datos en DataFrames (carga, filtrado, conteos).\n",
    "- train_test_split: dividir el dataset aleatoriamente en train/test (reproducible con random_state)."
   ]
  },
  {
   "cell_type": "code",
   "execution_count": 1,
   "id": "0cdf1391",
   "metadata": {},
   "outputs": [],
   "source": [
    "import numpy as np\n",
    "import pandas as pd\n",
    "from sklearn.model_selection import train_test_split"
   ]
  },
  {
   "cell_type": "markdown",
   "id": "84f4ad3a",
   "metadata": {},
   "source": [
    "- Carga el dataset desde CSV.\n",
    "- Selecciona solo las columnas relevantes (etiqueta y 5 variables clínicas binarias).\n",
    "- Renombra a alias cortos para el modelo:\n",
    "- D=Diabetes_binary, P=HighBP, C=HighChol, F=Smoker, A=HvyAlcoholConsump, DC=DiffWalk.\n"
   ]
  },
  {
   "cell_type": "code",
   "execution_count": 2,
   "id": "c6aaf121",
   "metadata": {},
   "outputs": [],
   "source": [
    "data = pd.read_csv('diabetes.csv')\n",
    "data = data[['Diabetes_binary','HighBP','HighChol','Smoker', 'HvyAlcoholConsump','DiffWalk']]\n",
    "data.rename(columns={\"Diabetes_binary\":\"D\",\"HighBP\":\"P\", \"HighChol\":\"C\", \"HvyAlcoholConsump\":\"A\", \"DiffWalk\":\"DC\", \"Smoker\":\"F\"}, inplace=True)"
   ]
  },
  {
   "cell_type": "markdown",
   "id": "8dc10356",
   "metadata": {},
   "source": [
    "- 6 columnas binarias (0/1): D (objetivo), P, C, F, A, DC.\n",
    "\n",
    "- Cada fila = una persona; tamaño ≈ 253,680 registros.\n",
    "\n",
    "- Valores leídos como 0.0/1.0 (float), sin preprocesamiento extra.\n",
    "\n",
    "- Columnas ordenadas: [D, P, C, F, A, DC]; no existen valores faltantes "
   ]
  },
  {
   "cell_type": "code",
   "execution_count": 3,
   "id": "2c9112ca",
   "metadata": {},
   "outputs": [
    {
     "data": {
      "text/html": [
       "<div>\n",
       "<style scoped>\n",
       "    .dataframe tbody tr th:only-of-type {\n",
       "        vertical-align: middle;\n",
       "    }\n",
       "\n",
       "    .dataframe tbody tr th {\n",
       "        vertical-align: top;\n",
       "    }\n",
       "\n",
       "    .dataframe thead th {\n",
       "        text-align: right;\n",
       "    }\n",
       "</style>\n",
       "<table border=\"1\" class=\"dataframe\">\n",
       "  <thead>\n",
       "    <tr style=\"text-align: right;\">\n",
       "      <th></th>\n",
       "      <th>D</th>\n",
       "      <th>P</th>\n",
       "      <th>C</th>\n",
       "      <th>F</th>\n",
       "      <th>A</th>\n",
       "      <th>DC</th>\n",
       "    </tr>\n",
       "  </thead>\n",
       "  <tbody>\n",
       "    <tr>\n",
       "      <th>0</th>\n",
       "      <td>0.0</td>\n",
       "      <td>1.0</td>\n",
       "      <td>1.0</td>\n",
       "      <td>1.0</td>\n",
       "      <td>0.0</td>\n",
       "      <td>1.0</td>\n",
       "    </tr>\n",
       "    <tr>\n",
       "      <th>1</th>\n",
       "      <td>0.0</td>\n",
       "      <td>0.0</td>\n",
       "      <td>0.0</td>\n",
       "      <td>1.0</td>\n",
       "      <td>0.0</td>\n",
       "      <td>0.0</td>\n",
       "    </tr>\n",
       "    <tr>\n",
       "      <th>2</th>\n",
       "      <td>0.0</td>\n",
       "      <td>1.0</td>\n",
       "      <td>1.0</td>\n",
       "      <td>0.0</td>\n",
       "      <td>0.0</td>\n",
       "      <td>1.0</td>\n",
       "    </tr>\n",
       "    <tr>\n",
       "      <th>3</th>\n",
       "      <td>0.0</td>\n",
       "      <td>1.0</td>\n",
       "      <td>0.0</td>\n",
       "      <td>0.0</td>\n",
       "      <td>0.0</td>\n",
       "      <td>0.0</td>\n",
       "    </tr>\n",
       "    <tr>\n",
       "      <th>4</th>\n",
       "      <td>0.0</td>\n",
       "      <td>1.0</td>\n",
       "      <td>1.0</td>\n",
       "      <td>0.0</td>\n",
       "      <td>0.0</td>\n",
       "      <td>0.0</td>\n",
       "    </tr>\n",
       "    <tr>\n",
       "      <th>...</th>\n",
       "      <td>...</td>\n",
       "      <td>...</td>\n",
       "      <td>...</td>\n",
       "      <td>...</td>\n",
       "      <td>...</td>\n",
       "      <td>...</td>\n",
       "    </tr>\n",
       "    <tr>\n",
       "      <th>253675</th>\n",
       "      <td>0.0</td>\n",
       "      <td>1.0</td>\n",
       "      <td>1.0</td>\n",
       "      <td>0.0</td>\n",
       "      <td>0.0</td>\n",
       "      <td>0.0</td>\n",
       "    </tr>\n",
       "    <tr>\n",
       "      <th>253676</th>\n",
       "      <td>1.0</td>\n",
       "      <td>1.0</td>\n",
       "      <td>1.0</td>\n",
       "      <td>0.0</td>\n",
       "      <td>0.0</td>\n",
       "      <td>1.0</td>\n",
       "    </tr>\n",
       "    <tr>\n",
       "      <th>253677</th>\n",
       "      <td>0.0</td>\n",
       "      <td>0.0</td>\n",
       "      <td>0.0</td>\n",
       "      <td>0.0</td>\n",
       "      <td>0.0</td>\n",
       "      <td>0.0</td>\n",
       "    </tr>\n",
       "    <tr>\n",
       "      <th>253678</th>\n",
       "      <td>0.0</td>\n",
       "      <td>1.0</td>\n",
       "      <td>0.0</td>\n",
       "      <td>0.0</td>\n",
       "      <td>0.0</td>\n",
       "      <td>0.0</td>\n",
       "    </tr>\n",
       "    <tr>\n",
       "      <th>253679</th>\n",
       "      <td>1.0</td>\n",
       "      <td>1.0</td>\n",
       "      <td>1.0</td>\n",
       "      <td>0.0</td>\n",
       "      <td>0.0</td>\n",
       "      <td>0.0</td>\n",
       "    </tr>\n",
       "  </tbody>\n",
       "</table>\n",
       "<p>253680 rows × 6 columns</p>\n",
       "</div>"
      ],
      "text/plain": [
       "          D    P    C    F    A   DC\n",
       "0       0.0  1.0  1.0  1.0  0.0  1.0\n",
       "1       0.0  0.0  0.0  1.0  0.0  0.0\n",
       "2       0.0  1.0  1.0  0.0  0.0  1.0\n",
       "3       0.0  1.0  0.0  0.0  0.0  0.0\n",
       "4       0.0  1.0  1.0  0.0  0.0  0.0\n",
       "...     ...  ...  ...  ...  ...  ...\n",
       "253675  0.0  1.0  1.0  0.0  0.0  0.0\n",
       "253676  1.0  1.0  1.0  0.0  0.0  1.0\n",
       "253677  0.0  0.0  0.0  0.0  0.0  0.0\n",
       "253678  0.0  1.0  0.0  0.0  0.0  0.0\n",
       "253679  1.0  1.0  1.0  0.0  0.0  0.0\n",
       "\n",
       "[253680 rows x 6 columns]"
      ]
     },
     "execution_count": 3,
     "metadata": {},
     "output_type": "execute_result"
    }
   ],
   "source": [
    "data"
   ]
  },
  {
   "cell_type": "markdown",
   "id": "878c70a5",
   "metadata": {},
   "source": [
    "# Dividimos los datos en datos de entrenamiento y prueba \n"
   ]
  },
  {
   "cell_type": "markdown",
   "id": "48718124",
   "metadata": {},
   "source": [
    "Separamos el dataset para evaluar el modelo de forma honesta y evitar data leakage: con train estimamos las CPTs y con test validamos predicciones. La división fue aleatoria 80/20 usando train_test_split (test_size=0.2, random_state=42 para reproducibilidad). Luego, en test clasificamos por máxima probabilidad (MAP) y calculamos las métricas (error de diagnóstico).\n",
    "\n",
    "Tras la división aleatoria 80/20 (random_state=42), las proporciones de la variable objetivo D se mantuvieron prácticamente iguales en ambos conjuntos (desbalance 86/14):\n",
    "\n",
    "- Entrenamiento: 202,944 filas — D=0: 86.0311 %, D=1: 13.9689 %\n",
    "\n",
    "- Prueba: 50,736 filas — D=0: 86.2090 %, D=1: 13.7910 %\n",
    "\n",
    "Esto confirma que el split preserva la distribución de clases y permite evaluar el modelo de forma representativa."
   ]
  },
  {
   "cell_type": "code",
   "execution_count": 4,
   "id": "2a47977d",
   "metadata": {},
   "outputs": [
    {
     "name": "stdout",
     "output_type": "stream",
     "text": [
      "Distribución en entrenamiento:\n",
      "D\n",
      "0.0    0.860311\n",
      "1.0    0.139689\n",
      "Name: proportion, dtype: float64\n",
      "\n",
      "Distribución en prueba:\n",
      "D\n",
      "0.0    0.86209\n",
      "1.0    0.13791\n",
      "Name: proportion, dtype: float64\n",
      "202944 en entrenamiento\n",
      "50736 en prueba\n"
     ]
    }
   ],
   "source": [
    "entrenamiento, prueba = train_test_split(data, test_size=0.2, random_state=42)\n",
    "# Verificar la distribución de la variable objetivo en ambos conjuntos\n",
    "print(\"Distribución en entrenamiento:\")\n",
    "print(entrenamiento['D'].value_counts(normalize=True))\n",
    "print(\"\\nDistribución en prueba:\")\n",
    "print(prueba['D'].value_counts(normalize=True))\n",
    "print(len(entrenamiento), \"en entrenamiento\")\n",
    "print(len(prueba), \"en prueba\")"
   ]
  },
  {
   "cell_type": "markdown",
   "id": "bb764bf1",
   "metadata": {},
   "source": [
    "# Red bayesiana \n",
    "\n",
    "Se generó el grafo de la red bayesiana para mejorar la visualización en los cálculos posteriores, las variables se renombraron siendo"
   ]
  },
  {
   "cell_type": "markdown",
   "id": "b5c74098",
   "metadata": {},
   "source": [
    "A : Alchoholico\n",
    "F : Fumador\n",
    "D : Diabetes\n",
    "P : Presion Alta\n",
    "DC : Dificultad al caminar\n",
    "C : Colesterol Alto"
   ]
  },
  {
   "cell_type": "code",
   "execution_count": 5,
   "id": "d3c0f743",
   "metadata": {},
   "outputs": [
    {
     "data": {
      "image/png": "[encoded data removed]",
      "text/plain": [
       "<Figure size 640x480 with 1 Axes>"
      ]
     },
     "metadata": {},
     "output_type": "display_data"
    }
   ],
   "source": [
    "import networkx as nx\n",
    "import matplotlib.pyplot as plt\n",
    "\n",
    "G = nx.DiGraph()\n",
    "G.add_edges_from([\n",
    "    ('F','D'), \n",
    "    ('A','D'),  \n",
    "    ('D','P'), \n",
    "    ('D','DC'),\n",
    "    ('D','C')\n",
    "])\n",
    "\n",
    "# Posiciones: (x, y)\n",
    "pos = {\n",
    "    'F': (-.5, 2),\n",
    "    'A': (.5, 2),\n",
    "    'C': (.5, 0),\n",
    "    'D': (0, 1),\n",
    "    'P': (-.5, 0),\n",
    "    'DC': (0, 0)\n",
    "}\n",
    "\n",
    "nx.draw(G, pos, with_labels=True, node_size=3000, node_color='lightblue', arrowsize=20)\n",
    "plt.show()\n"
   ]
  },
  {
   "cell_type": "markdown",
   "id": "fd3c628a",
   "metadata": {},
   "source": [
    "# Calculo de probabilidades con frecuencia"
   ]
  },
  {
   "cell_type": "markdown",
   "id": "e925009b",
   "metadata": {},
   "source": [
    "**Probabilidad de fumar y ser alcoholico**"
   ]
  },
  {
   "cell_type": "code",
   "execution_count": 6,
   "id": "43dad66b",
   "metadata": {},
   "outputs": [],
   "source": [
    "probabilidad_fumar = data.F.sum()/len(entrenamiento)\n",
    "probabilidad_alcoholico = data.A.sum()/len(entrenamiento)"
   ]
  },
  {
   "cell_type": "code",
   "execution_count": 7,
   "id": "b7ae45d8",
   "metadata": {},
   "outputs": [
    {
     "name": "stdout",
     "output_type": "stream",
     "text": [
      "Probailidad fumar 0.554\n",
      "Probailidad alcoholico 0.0702\n"
     ]
    }
   ],
   "source": [
    "print(\"Probailidad fumar\", np.round(probabilidad_fumar,4))\n",
    "print(\"Probailidad alcoholico\", np.round(probabilidad_alcoholico,4))\n",
    "\n"
   ]
  },
  {
   "cell_type": "markdown",
   "id": "0c3d5eba",
   "metadata": {},
   "source": [
    "\n",
    "**Probabilidad de diabetes dado fumar y ser alcohólico** \n",
    "$$\n",
    "\\text{Sea } F\\in\\{0,1\\} \\text{ (fumador) y } A\\in\\{0,1\\} \\text{ (alcohólico).}\n",
    "$$\n",
    "\n",
    "\n",
    "$$\n",
    "P(D=1\\mid F=f, A=a)\\;\\approx\\;\\frac{\\#\\{D=1,\\;F=f,\\;A=a\\}}{\\#\\{F=f,\\;A=a\\}},\\qquad f,a\\in\\{0,1\\}.\n",
    "$$\n",
    "\n",
    "Además, por complemento:\n",
    "$$\n",
    "P(D=0 \\mid F=f, A=a) = 1 - P(D=1 \\mid F=f, A=a).\n",
    "$$\n"
   ]
  },
  {
   "cell_type": "code",
   "execution_count": 8,
   "id": "4b86fc16",
   "metadata": {},
   "outputs": [],
   "source": [
    "fumar_T_alcholico_T = entrenamiento.loc[(entrenamiento.F == 1.0) & (entrenamiento.A == 1.0)]\n",
    "fumar_T_alcholico_F = entrenamiento.loc[(entrenamiento.F == 1.0) & (entrenamiento.A == 0)]\n",
    "fumar_F_alcholico_T = entrenamiento.loc[(entrenamiento.F == 0) & (entrenamiento.A == 1.0)]\n",
    "fumar_F_alcholico_F = entrenamiento.loc[(entrenamiento.F == 0) & (entrenamiento.A == 0)]"
   ]
  },
  {
   "cell_type": "markdown",
   "id": "75244087",
   "metadata": {},
   "source": [
    "**Probabilidad de cada combinación**\n",
    "\n",
    "Para cada subgrupo definido por F (fumador) y A (alcohólico), la probabilidad de diabetes es la proporción de casos con D=1 dentro del subgrupo:\n",
    "\n",
    "$$\n",
    "\\hat P(D=1\\mid F=f, A=a)=\\frac{\\#\\{D=1, F=f, A=a\\}}{\\#\\{F=f, A=a\\}},\\quad f,a\\in\\{0,1\\}.\n",
    "$$"
   ]
  },
  {
   "cell_type": "code",
   "execution_count": null,
   "id": "cf497ebb",
   "metadata": {},
   "outputs": [],
   "source": [
    "probabilidad_diabetes_fumar_T_alcholico_T = fumar_T_alcholico_T.D.sum()/len(fumar_T_alcholico_T)\n",
    "probabilidad_diabetes_fumar_T_alcholico_F = fumar_T_alcholico_F.D.sum()/len(fumar_T_alcholico_F)\n",
    "probabilidad_diabetes_fumar_F_alcholico_T = fumar_F_alcholico_T.D.sum()/len(fumar_F_alcholico_T)\n",
    "probabilidad_diabetes_fumar_F_alcholico_F = fumar_F_alcholico_F.D.sum()/len(fumar_F_alcholico_F)"
   ]
  },
  {
   "cell_type": "markdown",
   "id": "5d0fa2b6",
   "metadata": {},
   "source": [
    "**P(D) por combinaciones de F (fumador) y A (alcohólico)**  \n",
    "\n",
    "La tabla muestra la **probabilidad condicional estimada de diabetes** para cada combinación de hábitos.  \n",
    "Se calcula en *entrenamiento* como proporción dentro de cada subgrupo (T=1, F=0):\n",
    "\n",
    "$$\n",
    "\\hat P(D=1 \\mid F=f, A=a)=\\frac{\\#\\{D=1,\\;F=f,\\;A=a\\}}{\\#\\{F=f,\\;A=a\\}},\\quad f,a\\in\\{0,1\\}.\n",
    "$$\n",
    "\n",
    "Los valores impresos (p. ej., 0.0683 para \\(F{=}1, A{=}1\\)) son esas estimaciones y constituyen la **CPT** usada por la red bayesiana.\n"
   ]
  },
  {
   "cell_type": "code",
   "execution_count": 10,
   "id": "e3372f29",
   "metadata": {},
   "outputs": [
    {
     "name": "stdout",
     "output_type": "stream",
     "text": [
      "F  A  | P(D)\n",
      "--------------\n",
      "T  T  | 0.0683\n",
      "T  F  | 0.1725\n",
      "F  T  | 0.0454\n",
      "F  F  | 0.1232\n"
     ]
    }
   ],
   "source": [
    "print(\"F  A  | P(D)\")\n",
    "print(\"--------------\")\n",
    "print(\"T  T  |\",np.round(probabilidad_diabetes_fumar_T_alcholico_T,4))\n",
    "print(\"T  F  |\",np.round(probabilidad_diabetes_fumar_T_alcholico_F,4))\n",
    "print(\"F  T  |\",np.round(probabilidad_diabetes_fumar_F_alcholico_T,4))\n",
    "print(\"F  F  |\",np.round(probabilidad_diabetes_fumar_F_alcholico_F,4))\n",
    "\n"
   ]
  },
  {
   "cell_type": "markdown",
   "id": "2f71308a",
   "metadata": {},
   "source": [
    "\n",
    "**Cálculo de la probabilidad total de tener diabetes**\n",
    "\n",
    "Estimamos la prevalencia global \\(P(D=1)\\) aplicando la **ley de la probabilidad total** sobre todas las combinaciones de hábitos \\(F\\) (fumador) y \\(A\\) (alcohólico), usando las CPTs \\(P(D=1 \\,|\\, F, A)\\) y las marginales \\(P(F)\\) y \\(P(A)\\) calculadas en entrenamiento.  \n",
    "En el código se asume independencia entre \\(F\\) y \\(A\\), por lo que \\(P(F=f, A=a)=P(F=f)\\,P(A=a)\\).\n",
    "\n",
    "$$\n",
    "\\hat P(D=1)\\;\\approx\\;\\sum_{f\\in\\{0,1\\}}\\sum_{a\\in\\{0,1\\}}\n",
    "\\hat P(D=1\\mid F=f,A=a)\\;\\hat P(F=f)\\;\\hat P(A=a).\n",
    "$$\n",
    "\n"
   ]
  },
  {
   "cell_type": "code",
   "execution_count": 11,
   "id": "0e0c841c",
   "metadata": {},
   "outputs": [],
   "source": [
    "probabilidad_diabetes = probabilidad_diabetes_fumar_T_alcholico_T * probabilidad_fumar * probabilidad_alcoholico + \\\n",
    "                        probabilidad_diabetes_fumar_T_alcholico_F * probabilidad_fumar * (1 - probabilidad_alcoholico) + \\\n",
    "                        probabilidad_diabetes_fumar_F_alcholico_T * (1 - probabilidad_fumar) * probabilidad_alcoholico + \\\n",
    "                        probabilidad_diabetes_fumar_F_alcholico_F * (1 - probabilidad_fumar) * (1 - probabilidad_alcoholico) \n",
    "                        \n",
    "                        "
   ]
  },
  {
   "cell_type": "code",
   "execution_count": 12,
   "id": "3d242212",
   "metadata": {},
   "outputs": [
    {
     "name": "stdout",
     "output_type": "stream",
     "text": [
      "Probabilidad diabetes 0.144\n"
     ]
    }
   ],
   "source": [
    "print(\"Probabilidad diabetes\", np.round(probabilidad_diabetes,4))"
   ]
  },
  {
   "cell_type": "markdown",
   "id": "2bae9eee",
   "metadata": {},
   "source": [
    "**Probabilidad de los síntomas dado la diabetes** \n",
    "\n",
    "Primero se separa el dataset en:\n",
    "- `diabetes_T`: casos con \\(D=1\\),\n",
    "- `diabetes_F`: casos con \\(D=0\\).\n",
    "\n",
    "Para cada síntoma $X$ en $\\{P, C, DC\\}$: \n",
    "\n",
    "$$\n",
    "P(X=1 \\,|\\, D=d) \\approx \\frac{\\#\\{X=1,\\; D=d\\}}{\\#\\{D=d\\}}, \\quad d\\in\\{0,1\\}.\n",
    "$$\n",
    "\n"
   ]
  },
  {
   "cell_type": "code",
   "execution_count": 13,
   "id": "d38e8859",
   "metadata": {},
   "outputs": [],
   "source": [
    "diabetes_T = data.loc[(data.D == 1.0)]\n",
    "diabetes_F = data.loc[(data.D == 0)]"
   ]
  },
  {
   "cell_type": "markdown",
   "id": "caed18c5",
   "metadata": {},
   "source": [
    "**Probabilidades condicionales dadas las frecuencias**\n",
    "\n",
    "Se separan los registros en dos grupos: `diabetes_T` (D=1) y `diabetes_F` (D=0).  \n",
    "Para cada síntoma X ∈ {P, C, DC}, la probabilidad condicional se estima como proporción en cada grupo:\n",
    "\n",
    "$$\n",
    "P(X=1 \\;|\\; D=d) \\approx \\frac{\\#\\{X=1,\\; D=d\\}}{\\#\\{D=d\\}}, \\quad d \\in \\{0,1\\}.\n",
    "$$\n"
   ]
  },
  {
   "cell_type": "code",
   "execution_count": 14,
   "id": "0e855b68",
   "metadata": {},
   "outputs": [],
   "source": [
    "probabilidad_diabetes_T_presion_T = diabetes_T.P.sum()/len(diabetes_T)\n",
    "probabilidad_diabetes_F_presion_T = diabetes_F.P.sum()/len(diabetes_F)\n",
    "\n",
    "probabilidad_diabetes_T_colesterol_T = diabetes_T.C.sum()/len(diabetes_T)\n",
    "probabilidad_diabetes_F_colesterol_T = diabetes_F.C.sum()/len(diabetes_F)\n",
    "\n",
    "probabilidad_diabetes_T_diffcaminar_T = diabetes_T.DC.sum()/len(diabetes_T)\n",
    "probabilidad_diabetes_F_diffcaminar_T = diabetes_F.DC.sum()/len(diabetes_F)\n",
    "\n"
   ]
  },
  {
   "cell_type": "markdown",
   "id": "3263c9f2",
   "metadata": {},
   "source": [
    "**Probabilidades de síntomas dado el estado de diabetes**\n",
    "\n",
    "La tabla muestra, para cada estado de \\(D\\) (T=1, F=0), la probabilidad de que cada síntoma valga 1:\n",
    "- `P(P)` = \\(P(P=1 \\,|\\, D=d)\\)\n",
    "- `P(C)` = \\(P(C=1 \\,|\\, D=d)\\)\n",
    "- `P(DC)` = \\(P(DC=1 \\,|\\, D=d)\\)\n",
    "\n",
    "Se estiman en entrenamiento por frecuencia:\n",
    "$$\n",
    "P(X=1 \\,|\\, D=d) \\approx \\frac{\\#\\{X=1,\\; D=d\\}}{\\#\\{D=d\\}},\n",
    "\\quad X \\in \\{P, C, DC\\},\\; d \\in \\{0,1\\}.\n",
    "$$\n",
    "\n"
   ]
  },
  {
   "cell_type": "code",
   "execution_count": 15,
   "id": "a284646f",
   "metadata": {},
   "outputs": [
    {
     "name": "stdout",
     "output_type": "stream",
     "text": [
      "D  |  P(P)  |  P(C)  |  P(DC) \n",
      "------------------------------\n",
      "T  | 0.7527 | 0.6701 | 0.3712\n",
      "F  | 0.3766 | 0.3843 | 0.1354\n"
     ]
    }
   ],
   "source": [
    "print(\"D  |  P(P)  |  P(C)  |  P(DC) \")\n",
    "print(\"------------------------------\")\n",
    "print(\"T  |\",np.round(probabilidad_diabetes_T_presion_T,4),'|',np.round(probabilidad_diabetes_T_colesterol_T,4),'|',np.round(probabilidad_diabetes_T_diffcaminar_T,4))\n",
    "print(\"F  |\",np.round(probabilidad_diabetes_F_presion_T,4),'|',np.round(probabilidad_diabetes_F_colesterol_T,4),'|',np.round(probabilidad_diabetes_F_diffcaminar_T,4))\n",
    "\n",
    "\n"
   ]
  },
  {
   "cell_type": "markdown",
   "id": "f0eb0dcd",
   "metadata": {},
   "source": [
    "**Probabilidad general de cada síntoma**\n",
    "\n",
    "Se aplica la **ley de la probabilidad total** sobre \\(D\\).  \n",
    "Para cualquier síntoma \\(X\\) en {P, C, DC}:\n",
    "\n",
    "$$\n",
    "P(X=1) = P(X=1 \\mid D=1)\\,P(D=1) + P(X=1 \\mid D=0)\\,P(D=0).\n",
    "$$\n"
   ]
  },
  {
   "cell_type": "code",
   "execution_count": 16,
   "id": "5296cebb",
   "metadata": {},
   "outputs": [],
   "source": [
    "probabilidad_presion = probabilidad_diabetes_T_presion_T * probabilidad_diabetes + probabilidad_diabetes_F_presion_T * (1 - probabilidad_diabetes)\n",
    "probabilidad_colesterol = probabilidad_diabetes_T_colesterol_T * probabilidad_diabetes + probabilidad_diabetes_F_colesterol_T * (1 - probabilidad_diabetes)\n",
    "probabilidad_diffcaminar = probabilidad_diabetes_T_diffcaminar_T * probabilidad_diabetes + probabilidad_diabetes_F_diffcaminar_T * (1 - probabilidad_diabetes)\n",
    "\n"
   ]
  },
  {
   "cell_type": "code",
   "execution_count": 17,
   "id": "1d354bd9",
   "metadata": {},
   "outputs": [
    {
     "name": "stdout",
     "output_type": "stream",
     "text": [
      "Probabilidad presion alta 0.4308\n",
      "Probabilidad colesterol alto 0.4255\n",
      "Probabilidad dificultad para caminar 0.1693\n"
     ]
    }
   ],
   "source": [
    "print(\"Probabilidad presion alta\", np.round(probabilidad_presion,4))\n",
    "print(\"Probabilidad colesterol alto\", np.round(probabilidad_colesterol,4))\n",
    "print(\"Probabilidad dificultad para caminar\", np.round(probabilidad_diffcaminar,4))\n"
   ]
  },
  {
   "cell_type": "markdown",
   "id": "97cf10e0",
   "metadata": {},
   "source": [
    "# Calculo del error de diagnóstico "
   ]
  },
  {
   "cell_type": "markdown",
   "id": "f441e01a",
   "metadata": {},
   "source": [
    "**Probabilidad condicional y probabilidad conjunta para obtener D**\n",
    "\n",
    "\n",
    "$$\n",
    "P(D \\mid A, F, C, P, DC ) = \\frac{P(D, A, F, C, P, DC)}{P(A,F, C, P,DC)} = \\frac{P(D\\mid A , F) P(C \\mid D )P(P \\mid D )P(DC \\mid D )P(A)P(F)}{P(A)P(F)P(C)P(P)P(DC)} \n",
    "$$\n",
    "\n",
    "$$\n",
    "= \\frac{P(D\\mid A , F) P(C \\mid D )P(P \\mid D )P(DC \\mid D )}{P(C)P(P)P(DC)}\n",
    "$$"
   ]
  },
  {
   "cell_type": "markdown",
   "id": "2051311e",
   "metadata": {},
   "source": [
    "Se crean diccionarios con probabilidades estimadas, esto para facilitar la prediccion de la diabetes:\n",
    "  - `p_D_dado_F_A[(d,f,a)]` → \\(P(D=d \\,|\\, F=f, A=a)\\)\n",
    "  - `p_C_dado_D[(d,c)]`      → \\(P(C=c \\,|\\, D=d)\\)\n",
    "  - `p_C_dado_P[(d,p)]`      → \\(P(P=p \\,|\\, D=d)\\)\n",
    "  - `p_C_dado_DC[(d,dc)]`    → \\(P(DC=dc \\,|\\, D=d)\\)\n",
    "\n",
    "Se crean vectores de probabilidad para los sintomas C, P y DC, ya que estas probabilidades son los denominadores.\n",
    "\n",
    "- **Predicción en test (regla MAP, sin umbral)**:\n",
    "  1) Para cada fila de prueba, se extraen \\(F,A,P,C,DC\\) y se guarda la etiqueta real D en y_real.\n",
    "  2) Se calculan dos scores, uno por cada hipótesis D = 1 y D = 0, esto se calcula con los datos que se extrajeron en el paso 1.\n",
    "  3) Se clasifica por máxima probabilidad (MAP): Se elige la clase con mayor score (con el metodo de `np.argmax`, que selecciona el indice con mayor valor, el indice 0 es Falso y el 1 es Verdadero) y se añade a y_pred.\n"
   ]
  },
  {
   "cell_type": "code",
   "execution_count": null,
   "id": "c2958d40",
   "metadata": {},
   "outputs": [],
   "source": [
    "p_D_dado_F_A = {\n",
    "    # (Diabetes, Fumar, Alcoholico)\n",
    "    (1,1,1) : probabilidad_diabetes_fumar_T_alcholico_T,\n",
    "    (0,1,1) : 1 - probabilidad_diabetes_fumar_T_alcholico_T,\n",
    "    \n",
    "    (1,1,0) : probabilidad_diabetes_fumar_T_alcholico_F,\n",
    "    (0,1,0) : 1- probabilidad_diabetes_fumar_T_alcholico_F,\n",
    "    \n",
    "    (1,0,1) : probabilidad_diabetes_fumar_F_alcholico_T,\n",
    "    (0,0,1) : 1 - probabilidad_diabetes_fumar_F_alcholico_T,\n",
    "    \n",
    "    (1,0,0) : probabilidad_diabetes_fumar_F_alcholico_F,\n",
    "    (0,0,0) : 1 - probabilidad_diabetes_fumar_F_alcholico_F\n",
    "}\n",
    "\n",
    "p_C_dado_D = {\n",
    "    # (Diabetes, Colesterol)\n",
    "    (1,1) : probabilidad_diabetes_T_colesterol_T,\n",
    "    (1,0) : 1 - probabilidad_diabetes_T_colesterol_T,\n",
    "    (0,1) : probabilidad_diabetes_F_colesterol_T,\n",
    "    (0,0) : 1 - probabilidad_diabetes_F_colesterol_T\n",
    "}\n",
    "\n",
    "p_C_dado_P = {\n",
    "    # (Diabetes, Presion alta)\n",
    "    (1,1) : probabilidad_diabetes_T_presion_T,\n",
    "    (1,0) : 1 - probabilidad_diabetes_T_presion_T,\n",
    "    (0,1) : probabilidad_diabetes_F_presion_T,\n",
    "    (0,0) : 1 - probabilidad_diabetes_F_presion_T\n",
    "}\n",
    "\n",
    "p_C_dado_DC = {\n",
    "    # (Diabetes, Dificuldad Caminar)\n",
    "    (1,1) : probabilidad_diabetes_T_diffcaminar_T,\n",
    "    (1,0) : 1 - probabilidad_diabetes_T_diffcaminar_T,\n",
    "    (0,1) : probabilidad_diabetes_F_diffcaminar_T,\n",
    "    (0,0) : 1 - probabilidad_diabetes_F_diffcaminar_T\n",
    "}\n",
    "\n",
    "\n",
    "probabilidad_fumar_vector = [1-probabilidad_fumar, probabilidad_fumar]\n",
    "probabilidad_alcoholico_vector = [1-probabilidad_alcoholico, probabilidad_alcoholico]\n",
    "\n",
    "probabilidad_diabetes_vector = [1-probabilidad_diabetes, probabilidad_diabetes]\n",
    "\n",
    "probabilidad_presion_vector = [1-probabilidad_presion, probabilidad_presion]\n",
    "probabilidad_colesterol_vector = [1-probabilidad_colesterol, probabilidad_colesterol]\n",
    "probabilidad_diffcaminar_vector = [1-probabilidad_diffcaminar, probabilidad_diffcaminar]\n",
    "\n",
    "y_real = []\n",
    "y_pred = []\n",
    "\n",
    "# Iterar en las filas del dataframe de prueba\n",
    "for index, row in prueba.iterrows():\n",
    "    F = int(row['F'])\n",
    "    A = int(row['A'])\n",
    "    D = int(row['D'])\n",
    "    P = int(row['P'])\n",
    "    C = int(row['C'])\n",
    "    DC = int(row['DC'])\n",
    "    \n",
    "    y_real.append(D)\n",
    "    \n",
    "    resultado_provisional = []\n",
    "    for posible_D in [0,1]:\n",
    "        \n",
    "        total = (p_D_dado_F_A[(posible_D,F,A)] * p_C_dado_D[(posible_D,C)] * p_C_dado_P[(posible_D,P)] * p_C_dado_DC[(posible_D,DC)]) / (probabilidad_presion_vector[P] * probabilidad_colesterol_vector[C] * probabilidad_diffcaminar_vector[DC])\n",
    "        resultado_provisional.append(total)\n",
    "\n",
    "    # Predecir la clase con mayor probabilidad\n",
    "    prediccion = np.argmax(resultado_provisional)\n",
    "    y_pred.append(prediccion)"
   ]
  },
  {
   "cell_type": "markdown",
   "id": "55f0b3bc",
   "metadata": {},
   "source": [
    "Al ya tener los datos predichos y los datos reales, corremos la validacion con la libreria de sklearn, donde nos va a dar la matriz de confusion y en las diferentes metricas como nuestra red puntuo. "
   ]
  },
  {
   "cell_type": "markdown",
   "id": "26eb33ea",
   "metadata": {},
   "source": [
    "# Evaluación\n",
    "\n",
    "**Cómo se evaluó**\n",
    "1) **Split 80/20** (`random_state=42`).  \n",
    "2) Con **train** se estimaron por **frecuencias** las CPTs: `P(D|F,A)`, `P(P|D)`, `P(C|D)`, `P(DC|D)`.   \n",
    "3) En **test**, para cada persona se calcularon dos *scores* (D=0 y D=1) y se **clasificó por máxima probabilidad (MAP)**: se eligió la clase con mayor score.  \n",
    "4) Se midieron **accuracy**, **reporte de clasificación** y **matriz de confusión** con `sklearn`.\n",
    "\n",
    "**Resultados (test)**\n",
    "- **Accuracy:** `0.8512`  → **error de diagnóstico:** `0.1488`.  \n",
    "- **Matriz de confusión:** TN=41,588; FP=2,151; FN=5,396; TP=1,601.\n",
    "- **Reporte por clase:**\n",
    "  - Clase 0 (no diabetes): **precision 0.89**, **recall 0.95**, **F1 0.92** .\n",
    "  - Clase 1 (diabetes): **precision 0.43**, **recall 0.23**, **F1 0.30** .\n",
    "\n",
    "- El modelo es **muy específico** (identifica bien sanos), pero tiene **baja sensibilidad** para diabetes (muchos FN)."
   ]
  },
  {
   "cell_type": "code",
   "execution_count": 19,
   "id": "9326f68e",
   "metadata": {},
   "outputs": [
    {
     "name": "stdout",
     "output_type": "stream",
     "text": [
      "Accuracy: 0.8512\n",
      "\n",
      "Classification Report:\n",
      "              precision    recall  f1-score   support\n",
      "\n",
      "           0       0.89      0.95      0.92     43739\n",
      "           1       0.43      0.23      0.30      6997\n",
      "\n",
      "    accuracy                           0.85     50736\n",
      "   macro avg       0.66      0.59      0.61     50736\n",
      "weighted avg       0.82      0.85      0.83     50736\n",
      "\n",
      "\n",
      "Confusion Matrix:\n",
      "[[41588  2151]\n",
      " [ 5396  1601]]\n"
     ]
    }
   ],
   "source": [
    "from sklearn.metrics import accuracy_score, classification_report, confusion_matrix\n",
    "\n",
    "# Calculate accuracy\n",
    "accuracy = accuracy_score(y_real, y_pred)\n",
    "print(f\"Accuracy: {accuracy:.4f}\")\n",
    "\n",
    "# Print classification report\n",
    "print(\"\\nClassification Report:\")\n",
    "print(classification_report(y_real, y_pred))\n",
    "\n",
    "# Print confusion matrix\n",
    "print(\"\\nConfusion Matrix:\")\n",
    "print(confusion_matrix(y_real, y_pred))"
   ]
  }
 ],
 "metadata": {
  "kernelspec": {
   "display_name": "sklearn-env",
   "language": "python",
   "name": "python3"
  },
  "language_info": {
   "codemirror_mode": {
    "name": "ipython",
    "version": 3
   },
   "file_extension": ".py",
   "mimetype": "text/x-python",
   "name": "python",
   "nbconvert_exporter": "python",
   "pygments_lexer": "ipython3",
   "version": "3.13.2"
  }
 },
 "nbformat": 4,
 "nbformat_minor": 5
}
