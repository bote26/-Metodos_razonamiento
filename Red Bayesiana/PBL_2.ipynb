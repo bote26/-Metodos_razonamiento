{
 "cells": [
  {
   "cell_type": "code",
   "execution_count": 1,
   "id": "0cdf1391",
   "metadata": {},
   "outputs": [],
   "source": [
    "import numpy as np\n",
    "import pandas as pd\n",
    "\n",
    "import re\n",
    "\n",
    "from sklearn.model_selection import train_test_split"
   ]
  },
  {
   "cell_type": "code",
   "execution_count": 2,
   "id": "c6aaf121",
   "metadata": {},
   "outputs": [],
   "source": [
    "data = pd.read_csv('diabetes.csv')\n",
    "data = data[['Diabetes_binary','HighBP','HighChol','Smoker', 'HvyAlcoholConsump','DiffWalk']]\n",
    "data.rename(columns={\"Diabetes_binary\":\"D\",\"HighBP\":\"P\", \"HighChol\":\"C\", \"HvyAlcoholConsump\":\"A\", \"DiffWalk\":\"DC\", \"Smoker\":\"F\"}, inplace=True)"
   ]
  },
  {
   "cell_type": "code",
   "execution_count": 3,
   "id": "2c9112ca",
   "metadata": {},
   "outputs": [
    {
     "data": {
      "text/html": [
       "<div>\n",
       "<style scoped>\n",
       "    .dataframe tbody tr th:only-of-type {\n",
       "        vertical-align: middle;\n",
       "    }\n",
       "\n",
       "    .dataframe tbody tr th {\n",
       "        vertical-align: top;\n",
       "    }\n",
       "\n",
       "    .dataframe thead th {\n",
       "        text-align: right;\n",
       "    }\n",
       "</style>\n",
       "<table border=\"1\" class=\"dataframe\">\n",
       "  <thead>\n",
       "    <tr style=\"text-align: right;\">\n",
       "      <th></th>\n",
       "      <th>D</th>\n",
       "      <th>P</th>\n",
       "      <th>C</th>\n",
       "      <th>F</th>\n",
       "      <th>A</th>\n",
       "      <th>DC</th>\n",
       "    </tr>\n",
       "  </thead>\n",
       "  <tbody>\n",
       "    <tr>\n",
       "      <th>0</th>\n",
       "      <td>0.0</td>\n",
       "      <td>1.0</td>\n",
       "      <td>1.0</td>\n",
       "      <td>1.0</td>\n",
       "      <td>0.0</td>\n",
       "      <td>1.0</td>\n",
       "    </tr>\n",
       "    <tr>\n",
       "      <th>1</th>\n",
       "      <td>0.0</td>\n",
       "      <td>0.0</td>\n",
       "      <td>0.0</td>\n",
       "      <td>1.0</td>\n",
       "      <td>0.0</td>\n",
       "      <td>0.0</td>\n",
       "    </tr>\n",
       "    <tr>\n",
       "      <th>2</th>\n",
       "      <td>0.0</td>\n",
       "      <td>1.0</td>\n",
       "      <td>1.0</td>\n",
       "      <td>0.0</td>\n",
       "      <td>0.0</td>\n",
       "      <td>1.0</td>\n",
       "    </tr>\n",
       "    <tr>\n",
       "      <th>3</th>\n",
       "      <td>0.0</td>\n",
       "      <td>1.0</td>\n",
       "      <td>0.0</td>\n",
       "      <td>0.0</td>\n",
       "      <td>0.0</td>\n",
       "      <td>0.0</td>\n",
       "    </tr>\n",
       "    <tr>\n",
       "      <th>4</th>\n",
       "      <td>0.0</td>\n",
       "      <td>1.0</td>\n",
       "      <td>1.0</td>\n",
       "      <td>0.0</td>\n",
       "      <td>0.0</td>\n",
       "      <td>0.0</td>\n",
       "    </tr>\n",
       "    <tr>\n",
       "      <th>...</th>\n",
       "      <td>...</td>\n",
       "      <td>...</td>\n",
       "      <td>...</td>\n",
       "      <td>...</td>\n",
       "      <td>...</td>\n",
       "      <td>...</td>\n",
       "    </tr>\n",
       "    <tr>\n",
       "      <th>253675</th>\n",
       "      <td>0.0</td>\n",
       "      <td>1.0</td>\n",
       "      <td>1.0</td>\n",
       "      <td>0.0</td>\n",
       "      <td>0.0</td>\n",
       "      <td>0.0</td>\n",
       "    </tr>\n",
       "    <tr>\n",
       "      <th>253676</th>\n",
       "      <td>1.0</td>\n",
       "      <td>1.0</td>\n",
       "      <td>1.0</td>\n",
       "      <td>0.0</td>\n",
       "      <td>0.0</td>\n",
       "      <td>1.0</td>\n",
       "    </tr>\n",
       "    <tr>\n",
       "      <th>253677</th>\n",
       "      <td>0.0</td>\n",
       "      <td>0.0</td>\n",
       "      <td>0.0</td>\n",
       "      <td>0.0</td>\n",
       "      <td>0.0</td>\n",
       "      <td>0.0</td>\n",
       "    </tr>\n",
       "    <tr>\n",
       "      <th>253678</th>\n",
       "      <td>0.0</td>\n",
       "      <td>1.0</td>\n",
       "      <td>0.0</td>\n",
       "      <td>0.0</td>\n",
       "      <td>0.0</td>\n",
       "      <td>0.0</td>\n",
       "    </tr>\n",
       "    <tr>\n",
       "      <th>253679</th>\n",
       "      <td>1.0</td>\n",
       "      <td>1.0</td>\n",
       "      <td>1.0</td>\n",
       "      <td>0.0</td>\n",
       "      <td>0.0</td>\n",
       "      <td>0.0</td>\n",
       "    </tr>\n",
       "  </tbody>\n",
       "</table>\n",
       "<p>253680 rows × 6 columns</p>\n",
       "</div>"
      ],
      "text/plain": [
       "          D    P    C    F    A   DC\n",
       "0       0.0  1.0  1.0  1.0  0.0  1.0\n",
       "1       0.0  0.0  0.0  1.0  0.0  0.0\n",
       "2       0.0  1.0  1.0  0.0  0.0  1.0\n",
       "3       0.0  1.0  0.0  0.0  0.0  0.0\n",
       "4       0.0  1.0  1.0  0.0  0.0  0.0\n",
       "...     ...  ...  ...  ...  ...  ...\n",
       "253675  0.0  1.0  1.0  0.0  0.0  0.0\n",
       "253676  1.0  1.0  1.0  0.0  0.0  1.0\n",
       "253677  0.0  0.0  0.0  0.0  0.0  0.0\n",
       "253678  0.0  1.0  0.0  0.0  0.0  0.0\n",
       "253679  1.0  1.0  1.0  0.0  0.0  0.0\n",
       "\n",
       "[253680 rows x 6 columns]"
      ]
     },
     "execution_count": 3,
     "metadata": {},
     "output_type": "execute_result"
    }
   ],
   "source": [
    "data"
   ]
  },
  {
   "cell_type": "code",
   "execution_count": 4,
   "id": "d3c0f743",
   "metadata": {},
   "outputs": [
    {
     "ename": "ModuleNotFoundError",
     "evalue": "No module named 'networkx'",
     "output_type": "error",
     "traceback": [
      "\u001b[31m---------------------------------------------------------------------------\u001b[39m",
      "\u001b[31mModuleNotFoundError\u001b[39m                       Traceback (most recent call last)",
      "\u001b[36mCell\u001b[39m\u001b[36m \u001b[39m\u001b[32mIn[4]\u001b[39m\u001b[32m, line 1\u001b[39m\n\u001b[32m----> \u001b[39m\u001b[32m1\u001b[39m \u001b[38;5;28;01mimport\u001b[39;00m\u001b[38;5;250m \u001b[39m\u001b[34;01mnetworkx\u001b[39;00m\u001b[38;5;250m \u001b[39m\u001b[38;5;28;01mas\u001b[39;00m\u001b[38;5;250m \u001b[39m\u001b[34;01mnx\u001b[39;00m\n\u001b[32m      2\u001b[39m \u001b[38;5;28;01mimport\u001b[39;00m\u001b[38;5;250m \u001b[39m\u001b[34;01mmatplotlib\u001b[39;00m\u001b[34;01m.\u001b[39;00m\u001b[34;01mpyplot\u001b[39;00m\u001b[38;5;250m \u001b[39m\u001b[38;5;28;01mas\u001b[39;00m\u001b[38;5;250m \u001b[39m\u001b[34;01mplt\u001b[39;00m\n\u001b[32m      4\u001b[39m G = nx.DiGraph()\n",
      "\u001b[31mModuleNotFoundError\u001b[39m: No module named 'networkx'"
     ]
    }
   ],
   "source": [
    "import networkx as nx\n",
    "import matplotlib.pyplot as plt\n",
    "\n",
    "G = nx.DiGraph()\n",
    "G.add_edges_from([\n",
    "    ('Fumar','Diabetes'), \n",
    "    ('Alcohol','Diabetes'), \n",
    "    ('Colesterol','Diabetes'), \n",
    "    ('Diabetes','Presion'), \n",
    "    ('Diabetes','DificultadCaminar')\n",
    "])\n",
    "\n",
    "# Posiciones: (x, y)\n",
    "pos = {\n",
    "    'Fumar': (-1, 2),\n",
    "    'Alcohol': (0, 2),\n",
    "    'Colesterol': (1, 2),\n",
    "    'Diabetes': (0, 1),\n",
    "    'Presion': (-0.5, 0),\n",
    "    'DificultadCaminar': (0.5, 0)\n",
    "}\n",
    "\n",
    "nx.draw(G, pos, with_labels=True, node_size=3000, node_color='lightblue', arrowsize=20)\n",
    "plt.show()\n"
   ]
  },
  {
   "cell_type": "markdown",
   "id": "fd3c628a",
   "metadata": {},
   "source": [
    "# Calculo de probabilidades con frecuencia"
   ]
  },
  {
   "cell_type": "markdown",
   "id": "e925009b",
   "metadata": {},
   "source": [
    "Probabilidad de fumar y ser alcoholico\n",
    "\n",
    "\n",
    "$$\n",
    "P(A) \\approx \\frac{\\text{Número de veces que ocurre } A}{\\text{Número total de observaciones}}\n",
    "$$\n",
    "\n",
    " "
   ]
  },
  {
   "cell_type": "code",
   "execution_count": null,
   "id": "43dad66b",
   "metadata": {},
   "outputs": [],
   "source": [
    "probabilidad_fumar = data.F.sum()/len(data)\n",
    "probabilidad_alcoholico = data.A.sum()/len(data)"
   ]
  },
  {
   "cell_type": "code",
   "execution_count": null,
   "id": "b7ae45d8",
   "metadata": {},
   "outputs": [
    {
     "name": "stdout",
     "output_type": "stream",
     "text": [
      "Probailidad fumar 0.4432\n",
      "Probailidad alcoholico 0.0562\n"
     ]
    }
   ],
   "source": [
    "print(\"Probailidad fumar\", np.round(probabilidad_fumar,4))\n",
    "print(\"Probailidad alcoholico\", np.round(probabilidad_alcoholico,4))"
   ]
  },
  {
   "cell_type": "markdown",
   "id": "0c3d5eba",
   "metadata": {},
   "source": [
    "Probabilidad de diabetes dado fumar y ser alcoholico"
   ]
  },
  {
   "cell_type": "markdown",
   "id": "f492acd4",
   "metadata": {},
   "source": [
    "Datos que cumplen las condiciones de la tabla"
   ]
  },
  {
   "cell_type": "code",
   "execution_count": null,
   "id": "4b86fc16",
   "metadata": {},
   "outputs": [],
   "source": [
    "fumar_T_alcholico_T = data.loc[(data.F == 1.0) & (data.A == 1.0)]\n",
    "fumar_T_alcholico_F = data.loc[(data.F == 1.0) & (data.A == 0)]\n",
    "fumar_F_alcholico_T = data.loc[(data.F == 0) & (data.A == 1.0)]\n",
    "fumar_F_alcholico_F = data.loc[(data.F == 0) & (data.A == 0)]"
   ]
  },
  {
   "cell_type": "markdown",
   "id": "75244087",
   "metadata": {},
   "source": [
    "Probabilidad de cada combinación dada su frecuencia en los datos"
   ]
  },
  {
   "cell_type": "code",
   "execution_count": null,
   "id": "cf497ebb",
   "metadata": {},
   "outputs": [],
   "source": [
    "probabilidad_diabetes_fumar_T_alcholico_T = fumar_T_alcholico_T.D.sum()/len(fumar_T_alcholico_T)\n",
    "probabilidad_diabetes_fumar_T_alcholico_F = fumar_T_alcholico_F.D.sum()/len(fumar_T_alcholico_F)\n",
    "probabilidad_diabetes_fumar_F_alcholico_T = fumar_F_alcholico_T.D.sum()/len(fumar_F_alcholico_T)\n",
    "probabilidad_diabetes_fumar_F_alcholico_F = fumar_F_alcholico_F.D.sum()/len(fumar_F_alcholico_F)"
   ]
  },
  {
   "cell_type": "code",
   "execution_count": null,
   "id": "e3372f29",
   "metadata": {},
   "outputs": [
    {
     "name": "stdout",
     "output_type": "stream",
     "text": [
      "F  A  | P(D)\n",
      "--------------\n",
      "T  T  | 0.0668\n",
      "T  F  | 0.1716\n",
      "F  T  | 0.0427\n",
      "F  F  | 0.1234\n"
     ]
    }
   ],
   "source": [
    "print(\"F  A  | P(D)\")\n",
    "print(\"--------------\")\n",
    "print(\"T  T  |\",np.round(probabilidad_diabetes_fumar_T_alcholico_T,4))\n",
    "print(\"T  F  |\",np.round(probabilidad_diabetes_fumar_T_alcholico_F,4))\n",
    "print(\"F  T  |\",np.round(probabilidad_diabetes_fumar_F_alcholico_T,4))\n",
    "print(\"F  F  |\",np.round(probabilidad_diabetes_fumar_F_alcholico_F,4))"
   ]
  },
  {
   "cell_type": "markdown",
   "id": "2f71308a",
   "metadata": {},
   "source": [
    "Calculo de la probabilidad total de tener diabetes, es decir, todas las combinaciones en las que puede pasar."
   ]
  },
  {
   "cell_type": "code",
   "execution_count": null,
   "id": "0e0c841c",
   "metadata": {},
   "outputs": [],
   "source": [
    "probabilidad_diabetes = probabilidad_diabetes_fumar_T_alcholico_T * probabilidad_fumar * probabilidad_alcoholico + \\\n",
    "                        probabilidad_diabetes_fumar_T_alcholico_F * probabilidad_fumar * (1 - probabilidad_alcoholico) + \\\n",
    "                        probabilidad_diabetes_fumar_F_alcholico_T * (1 - probabilidad_fumar) * probabilidad_alcoholico + \\\n",
    "                        probabilidad_diabetes_fumar_F_alcholico_F * (1 - probabilidad_fumar) * (1 - probabilidad_alcoholico) "
   ]
  },
  {
   "cell_type": "code",
   "execution_count": null,
   "id": "3d242212",
   "metadata": {},
   "outputs": [
    {
     "name": "stdout",
     "output_type": "stream",
     "text": [
      "Probailidad diabetes 0.1396\n"
     ]
    }
   ],
   "source": [
    "print(\"Probailidad diabetes\", np.round(probabilidad_diabetes,4))"
   ]
  },
  {
   "cell_type": "markdown",
   "id": "2bae9eee",
   "metadata": {},
   "source": [
    "Probabilidad de los sintomas dado la diabetes\n",
    "\n"
   ]
  },
  {
   "cell_type": "code",
   "execution_count": null,
   "id": "d38e8859",
   "metadata": {},
   "outputs": [],
   "source": [
    "diabetes_T = data.loc[(data.D == 1.0)]\n",
    "diabetes_F = data.loc[(data.D == 0)]"
   ]
  },
  {
   "cell_type": "markdown",
   "id": "caed18c5",
   "metadata": {},
   "source": [
    "Probabilidades condicionales dadas las frecuencias"
   ]
  },
  {
   "cell_type": "code",
   "execution_count": null,
   "id": "0e855b68",
   "metadata": {},
   "outputs": [],
   "source": [
    "probabilidad_diabetes_T_presion_T = diabetes_T.P.sum()/len(diabetes_T)\n",
    "probabilidad_diabetes_F_presion_T = diabetes_F.P.sum()/len(diabetes_F)\n",
    "\n",
    "probabilidad_diabetes_T_colesterol_T = diabetes_T.C.sum()/len(diabetes_T)\n",
    "probabilidad_diabetes_F_colesterol_T = diabetes_F.C.sum()/len(diabetes_F)\n",
    "\n",
    "probabilidad_diabetes_T_diffcaminar_T = diabetes_T.DC.sum()/len(diabetes_T)\n",
    "probabilidad_diabetes_F_diffcaminar_T = diabetes_F.DC.sum()/len(diabetes_F)\n"
   ]
  },
  {
   "cell_type": "code",
   "execution_count": null,
   "id": "a284646f",
   "metadata": {},
   "outputs": [
    {
     "name": "stdout",
     "output_type": "stream",
     "text": [
      "D  |  P(P)  |  P(C)  |  P(DC) \n",
      "------------------------------\n",
      "T  | 0.7527 | 0.6701 | 0.3712\n",
      "F  | 0.3766 | 0.3843 | 0.1354\n"
     ]
    }
   ],
   "source": [
    "print(\"D  |  P(P)  |  P(C)  |  P(DC) \")\n",
    "print(\"------------------------------\")\n",
    "print(\"T  |\",np.round(probabilidad_diabetes_T_presion_T,4),'|',np.round(probabilidad_diabetes_T_colesterol_T,4),'|',np.round(probabilidad_diabetes_T_diffcaminar_T,4))\n",
    "print(\"F  |\",np.round(probabilidad_diabetes_F_presion_T,4),'|',np.round(probabilidad_diabetes_F_colesterol_T,4),'|',np.round(probabilidad_diabetes_F_diffcaminar_T,4))\n"
   ]
  },
  {
   "cell_type": "code",
   "execution_count": null,
   "id": "5296cebb",
   "metadata": {},
   "outputs": [],
   "source": [
    "probabilidad_presion = probabilidad_diabetes_T_presion_T * probabilidad_diabetes + probabilidad_diabetes_F_presion_T * (1 - probabilidad_diabetes)\n",
    "probabilidad_colesterol = probabilidad_diabetes_T_colesterol_T * probabilidad_diabetes + probabilidad_diabetes_F_colesterol_T * (1 - probabilidad_diabetes)\n",
    "probabilidad_diffcaminar = probabilidad_diabetes_T_diffcaminar_T * probabilidad_diabetes + probabilidad_diabetes_F_diffcaminar_T * (1 - probabilidad_diabetes)"
   ]
  },
  {
   "cell_type": "code",
   "execution_count": null,
   "id": "1d354bd9",
   "metadata": {},
   "outputs": [
    {
     "name": "stdout",
     "output_type": "stream",
     "text": [
      "Probabilidad presion alta 0.4291\n",
      "Probabilidad colesterol alto 0.4242\n",
      "Probabilidad dificultad para caminar 0.1683\n"
     ]
    }
   ],
   "source": [
    "print(\"Probabilidad presion alta\", np.round(probabilidad_presion,4))\n",
    "print(\"Probabilidad colesterol alto\", np.round(probabilidad_colesterol,4))\n",
    "print(\"Probabilidad dificultad para caminar\", np.round(probabilidad_diffcaminar,4))"
   ]
  },
  {
   "cell_type": "code",
   "execution_count": null,
   "id": "e9be50b0",
   "metadata": {},
   "outputs": [],
   "source": []
  }
 ],
 "metadata": {
  "kernelspec": {
   "display_name": "sklearn-env",
   "language": "python",
   "name": "python3"
  },
  "language_info": {
   "codemirror_mode": {
    "name": "ipython",
    "version": 3
   },
   "file_extension": ".py",
   "mimetype": "text/x-python",
   "name": "python",
   "nbconvert_exporter": "python",
   "pygments_lexer": "ipython3",
   "version": "3.13.2"
  }
 },
 "nbformat": 4,
 "nbformat_minor": 5
}
